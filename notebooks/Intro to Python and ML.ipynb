{
 "cells": [
  {
   "cell_type": "markdown",
   "metadata": {},
   "source": [
    "# Motivation\n",
    "\n",
    "**Sebastian Thrun** (former Stanford professor, winner of DARPA Grand Challenges in autonomous driving, founder of Udacity) summarizes why he is enthusiastic about Machine Learning and AI: https://www.youtube.com/watch?time_continue=1&v=EDHDzVoYw0w\n",
    "\n",
    "More insights follow in a **TED talk: What AI is and isn't**\n",
    "https://www.ted.com/talks/sebastian_thrun_and_chris_anderson_the_new_generation_of_computers_is_programming_itself?language=en\n",
    "\n",
    "**Yuval Noah Harari provides a more sceptical view** on what he calls technological disruption (AI/automation/robotics): https://www.ted.com/talks/yuval_noah_harari_nationalism_vs_globalism_the_new_political_divide?language=en&utm_campaign=tedspread&utm_medium=referral&utm_source=tedcomshare\n",
    "\n",
    "Many machine learning examples and tutorials are on Kaggle: https://www.kaggle.com/\n",
    "also machine learning competitions, for example,\n",
    "Automated Essay Scoring: https://www.kaggle.com/c/asap-aes\n",
    "\n",
    "\n",
    "cutting edge research in AI/ML has been accomplished by DeepMind: https://deepmind.com/\n"
   ]
  },
  {
   "cell_type": "markdown",
   "metadata": {},
   "source": [
    "# Getting started\n",
    "\n",
    "Python is the basis for using popular machine learning libraries. A good introduction to Python is at https://www.w3schools.com/python/default.asp\n",
    "or the following tutorial: https://www.programiz.com/python-programming#tutorial\n",
    "\n",
    "Let's first check which Python version is installed:"
   ]
  },
  {
   "cell_type": "code",
   "execution_count": 7,
   "metadata": {},
   "outputs": [
    {
     "name": "stdout",
     "output_type": "stream",
     "text": [
      "Python 3.7.0\r\n"
     ]
    }
   ],
   "source": [
    "!python --version"
   ]
  },
  {
   "cell_type": "markdown",
   "metadata": {},
   "source": [
    "The hello world example is a simple print statement. In Python 3 you have to use brackets, but it does not matter whether you use single or double quotes:"
   ]
  },
  {
   "cell_type": "code",
   "execution_count": 8,
   "metadata": {},
   "outputs": [
    {
     "name": "stdout",
     "output_type": "stream",
     "text": [
      "hello world!\n"
     ]
    }
   ],
   "source": [
    "print('hello world!')"
   ]
  },
  {
   "cell_type": "code",
   "execution_count": 9,
   "metadata": {},
   "outputs": [
    {
     "name": "stdout",
     "output_type": "stream",
     "text": [
      "hello world!\n"
     ]
    }
   ],
   "source": [
    "print(\"hello world!\")"
   ]
  },
  {
   "cell_type": "markdown",
   "metadata": {},
   "source": [
    "In Python werden Variable nicht deklariert. Es gibt daher keine statische Typprüfung durch den Compiler wie in Java. Es können einer Variablen sogar Werte unterschiedlicher Datentypen zugewiesen werden. Das ist auf den ersten Blick bequem. Damit wird es jedoch unmöglich, gewisse Fehler automatisch zu entdecken. "
   ]
  },
  {
   "cell_type": "code",
   "execution_count": 12,
   "metadata": {},
   "outputs": [
    {
     "name": "stdout",
     "output_type": "stream",
     "text": [
      "8\n",
      "12\n",
      "hi\n"
     ]
    }
   ],
   "source": [
    "i= 8      # i is of type integer\n",
    "j= 12     # j is of type integer\n",
    "print(i)\n",
    "print(j)\n",
    "j= \"hi\"   # j is now of type string!\n",
    "print (j)"
   ]
  },
  {
   "cell_type": "code",
   "execution_count": 13,
   "metadata": {},
   "outputs": [
    {
     "ename": "TypeError",
     "evalue": "unsupported operand type(s) for +: 'int' and 'str'",
     "output_type": "error",
     "traceback": [
      "\u001b[0;31m---------------------------------------------------------------------------\u001b[0m",
      "\u001b[0;31mTypeError\u001b[0m                                 Traceback (most recent call last)",
      "\u001b[0;32m<ipython-input-13-72a96f7f308b>\u001b[0m in \u001b[0;36m<module>\u001b[0;34m()\u001b[0m\n\u001b[0;32m----> 1\u001b[0;31m \u001b[0mprint\u001b[0m \u001b[0;34m(\u001b[0m\u001b[0mi\u001b[0m \u001b[0;34m+\u001b[0m \u001b[0mj\u001b[0m\u001b[0;34m)\u001b[0m\u001b[0;34m\u001b[0m\u001b[0m\n\u001b[0m",
      "\u001b[0;31mTypeError\u001b[0m: unsupported operand type(s) for +: 'int' and 'str'"
     ]
    }
   ],
   "source": [
    "print (i + j)"
   ]
  },
  {
   "cell_type": "code",
   "execution_count": 16,
   "metadata": {},
   "outputs": [
    {
     "name": "stdout",
     "output_type": "stream",
     "text": [
      "8 hi\n"
     ]
    }
   ],
   "source": [
    "print (str(i) + ' ' + j)    # Python type cast: type(variable)"
   ]
  },
  {
   "cell_type": "code",
   "execution_count": 18,
   "metadata": {},
   "outputs": [
    {
     "name": "stdout",
     "output_type": "stream",
     "text": [
      "3.141596\n",
      "<class 'float'>\n"
     ]
    }
   ],
   "source": [
    "pi= 3.141596   # pi is of type float\n",
    "print (pi)\n",
    "print(type(pi))"
   ]
  },
  {
   "cell_type": "markdown",
   "metadata": {},
   "source": [
    "Strings are surrounded by either single quotation marks, or double quotation marks."
   ]
  },
  {
   "cell_type": "code",
   "execution_count": 19,
   "metadata": {},
   "outputs": [
    {
     "name": "stdout",
     "output_type": "stream",
     "text": [
      "Demis Hassabis\n"
     ]
    }
   ],
   "source": [
    "firstName= \"Demis\"\n",
    "lastName= 'Hassabis'\n",
    "print (firstName + ' ' + lastName)"
   ]
  },
  {
   "cell_type": "code",
   "execution_count": 21,
   "metadata": {},
   "outputs": [
    {
     "name": "stdout",
     "output_type": "stream",
     "text": [
      "i\n",
      "H\n"
     ]
    }
   ],
   "source": [
    "print (firstName[3])\n",
    "print (lastName[0])"
   ]
  },
  {
   "cell_type": "code",
   "execution_count": 34,
   "metadata": {},
   "outputs": [
    {
     "name": "stdout",
     "output_type": "stream",
     "text": [
      "8\n",
      "Hassabis\n"
     ]
    }
   ],
   "source": [
    "print(len(lastName))\n",
    "print(lastName)  # try to omit print"
   ]
  },
  {
   "cell_type": "code",
   "execution_count": 37,
   "metadata": {},
   "outputs": [
    {
     "data": {
      "text/plain": [
       "'Hassabis'"
      ]
     },
     "execution_count": 37,
     "metadata": {},
     "output_type": "execute_result"
    }
   ],
   "source": [
    "lastName"
   ]
  },
  {
   "cell_type": "code",
   "execution_count": 25,
   "metadata": {},
   "outputs": [
    {
     "name": "stdout",
     "output_type": "stream",
     "text": [
      "Enter your name:\n",
      "Wolfgang\n",
      "Hi Wolfgang!\n"
     ]
    }
   ],
   "source": [
    "print(\"Enter your name:\")\n",
    "name = input()\n",
    "print(\"Hi \" + name + \"!\")"
   ]
  },
  {
   "cell_type": "markdown",
   "metadata": {},
   "source": [
    "Logical operators are 'and' 'or' 'not'"
   ]
  },
  {
   "cell_type": "code",
   "execution_count": 30,
   "metadata": {},
   "outputs": [
    {
     "name": "stdout",
     "output_type": "stream",
     "text": [
      "a is True\n",
      "b is False\n",
      "not b is True\n",
      "a and b is False\n",
      "a or b is True\n"
     ]
    }
   ],
   "source": [
    "a= True\n",
    "b= False\n",
    "print (\"a is \" + str(a))\n",
    "print (\"b is \" + str(b))\n",
    "print (\"not b is \" + str(not b))\n",
    "print (\"a and b is \" + str(a and b))\n",
    "print (\"a or b is \" + str(a or b))"
   ]
  },
  {
   "cell_type": "markdown",
   "metadata": {},
   "source": [
    "# Collections\n",
    "\n",
    "There are four collection data types in the Python programming language:\n",
    "\n",
    "**List** is a collection which is ordered and changeable. Allows duplicate members."
   ]
  },
  {
   "cell_type": "code",
   "execution_count": 57,
   "metadata": {},
   "outputs": [
    {
     "name": "stdout",
     "output_type": "stream",
     "text": [
      "['strawberry', 'banana', 'pineapple', 'kiwi']\n",
      "pineapple\n",
      "4\n"
     ]
    }
   ],
   "source": [
    "fruits= [\"strawberry\", \"banana\", \"pineapple\", 'kiwi']\n",
    "print (fruits)\n",
    "print (fruits[2])\n",
    "print(len(fruits))"
   ]
  },
  {
   "cell_type": "code",
   "execution_count": 51,
   "metadata": {},
   "outputs": [
    {
     "name": "stdout",
     "output_type": "stream",
     "text": [
      "['strawberry', 'cherry', 'pineapple', 'kiwi']\n"
     ]
    }
   ],
   "source": [
    "fruits[1]= 'cherry'\n",
    "print (fruits)"
   ]
  },
  {
   "cell_type": "code",
   "execution_count": 47,
   "metadata": {},
   "outputs": [
    {
     "name": "stdout",
     "output_type": "stream",
     "text": [
      "strawberry\n",
      "cherry\n",
      "pineapple\n",
      "kiwi\n"
     ]
    }
   ],
   "source": [
    "for fruit in fruits:\n",
    "  print(fruit)"
   ]
  },
  {
   "cell_type": "code",
   "execution_count": 52,
   "metadata": {},
   "outputs": [
    {
     "name": "stdout",
     "output_type": "stream",
     "text": [
      "'cherry' is in the fruits list\n"
     ]
    }
   ],
   "source": [
    "if 'cherry' in fruits:\n",
    "  print(\"'cherry' is in the fruits list\")\n",
    "else:\n",
    "  print(\"'cherry' is NOT in the fruits list\")"
   ]
  },
  {
   "cell_type": "code",
   "execution_count": 53,
   "metadata": {},
   "outputs": [
    {
     "name": "stdout",
     "output_type": "stream",
     "text": [
      "['strawberry', 'cherry', 'pineapple', 'kiwi', 'orange']\n",
      "5\n"
     ]
    }
   ],
   "source": [
    "fruits.append('orange')\n",
    "print (fruits)\n",
    "print(len(fruits))"
   ]
  },
  {
   "cell_type": "code",
   "execution_count": 54,
   "metadata": {},
   "outputs": [
    {
     "name": "stdout",
     "output_type": "stream",
     "text": [
      "['cherry', 'pineapple', 'kiwi', 'orange']\n",
      "4\n"
     ]
    }
   ],
   "source": [
    "fruits.remove('strawberry')\n",
    "print (fruits)\n",
    "print(len(fruits))"
   ]
  },
  {
   "cell_type": "code",
   "execution_count": 55,
   "metadata": {},
   "outputs": [
    {
     "name": "stdout",
     "output_type": "stream",
     "text": [
      "['cherry', 'kiwi', 'orange', 'pineapple']\n",
      "4\n"
     ]
    }
   ],
   "source": [
    "fruits.sort()\n",
    "print (fruits)\n",
    "print(len(fruits))"
   ]
  },
  {
   "cell_type": "code",
   "execution_count": 56,
   "metadata": {},
   "outputs": [
    {
     "name": "stdout",
     "output_type": "stream",
     "text": [
      "[]\n",
      "0\n"
     ]
    }
   ],
   "source": [
    "fruits.clear()\n",
    "print (fruits)\n",
    "print(len(fruits))"
   ]
  },
  {
   "cell_type": "markdown",
   "metadata": {},
   "source": [
    "**Tuple** is a collection which is ordered and unchangeable. Allows duplicate members."
   ]
  },
  {
   "cell_type": "code",
   "execution_count": 63,
   "metadata": {},
   "outputs": [
    {
     "name": "stdout",
     "output_type": "stream",
     "text": [
      "('spring', 'summer', 'fall', 'winter')\n",
      "4\n"
     ]
    }
   ],
   "source": [
    "seasons= (\"spring\", \"summer\", \"fall\", \"winter\")\n",
    "print (seasons)\n",
    "print(len(seasons))"
   ]
  },
  {
   "cell_type": "code",
   "execution_count": 61,
   "metadata": {},
   "outputs": [
    {
     "ename": "TypeError",
     "evalue": "'tuple' object does not support item assignment",
     "output_type": "error",
     "traceback": [
      "\u001b[0;31m---------------------------------------------------------------------------\u001b[0m",
      "\u001b[0;31mTypeError\u001b[0m                                 Traceback (most recent call last)",
      "\u001b[0;32m<ipython-input-61-8c742ab9e080>\u001b[0m in \u001b[0;36m<module>\u001b[0;34m()\u001b[0m\n\u001b[0;32m----> 1\u001b[0;31m \u001b[0mseasons\u001b[0m\u001b[0;34m[\u001b[0m\u001b[0;36m0\u001b[0m\u001b[0;34m]\u001b[0m\u001b[0;34m=\u001b[0m \u001b[0;34m\"summer\"\u001b[0m\u001b[0;34m\u001b[0m\u001b[0m\n\u001b[0m",
      "\u001b[0;31mTypeError\u001b[0m: 'tuple' object does not support item assignment"
     ]
    }
   ],
   "source": [
    "seasons[0]= \"summer\""
   ]
  },
  {
   "cell_type": "code",
   "execution_count": 62,
   "metadata": {},
   "outputs": [
    {
     "name": "stdout",
     "output_type": "stream",
     "text": [
      "spring\n",
      "summer\n",
      "fall\n",
      "winter\n"
     ]
    }
   ],
   "source": [
    "for season in seasons:\n",
    "  print(season)"
   ]
  },
  {
   "cell_type": "markdown",
   "metadata": {},
   "source": [
    "**Set** is a collection which is unordered and unindexed. No duplicate members."
   ]
  },
  {
   "cell_type": "code",
   "execution_count": 66,
   "metadata": {},
   "outputs": [
    {
     "name": "stdout",
     "output_type": "stream",
     "text": [
      "{2, 3, 5, 7, 9, 11, 13, 17, 19, 23}\n",
      "10\n"
     ]
    }
   ],
   "source": [
    "somePrimes= {2, 3, 5, 7, 9, 11, 13, 17, 19, 23}\n",
    "print (somePrimes)\n",
    "print(len(somePrimes))"
   ]
  },
  {
   "cell_type": "code",
   "execution_count": 67,
   "metadata": {},
   "outputs": [
    {
     "name": "stdout",
     "output_type": "stream",
     "text": [
      "{2, 3, 5, 7, 9, 11, 13, 17, 19, 23, 29}\n",
      "11\n"
     ]
    }
   ],
   "source": [
    "somePrimes.add(29)\n",
    "print (somePrimes)\n",
    "print(len(somePrimes))"
   ]
  },
  {
   "cell_type": "code",
   "execution_count": 76,
   "metadata": {},
   "outputs": [
    {
     "name": "stdout",
     "output_type": "stream",
     "text": [
      "{2, 3, 5, 37, 7, 9, 41, 11, 13, 17, 19, 23, 29, 31}\n",
      "14\n"
     ]
    }
   ],
   "source": [
    "somePrimes.add(29)\n",
    "print (somePrimes)\n",
    "print(len(somePrimes))"
   ]
  },
  {
   "cell_type": "code",
   "execution_count": 69,
   "metadata": {},
   "outputs": [
    {
     "name": "stdout",
     "output_type": "stream",
     "text": [
      "{2, 3, 5, 37, 7, 9, 41, 11, 13, 17, 19, 23, 29, 31}\n",
      "14\n"
     ]
    }
   ],
   "source": [
    "somePrimes.update([31, 37, 41])\n",
    "print (somePrimes)\n",
    "print(len(somePrimes))"
   ]
  },
  {
   "cell_type": "markdown",
   "metadata": {},
   "source": [
    "**Dictionary** is a collection of (key, value) pairs. A dictionary is unordered, changeable and indexed. No duplicate key entries."
   ]
  },
  {
   "cell_type": "code",
   "execution_count": 95,
   "metadata": {},
   "outputs": [
    {
     "name": "stdout",
     "output_type": "stream",
     "text": [
      "{123: 'Bill Gates', 234: 'Steve Jobs', 567: 'Larry Page', 890: 'Sergey Brin'}\n",
      "4\n"
     ]
    }
   ],
   "source": [
    "pioneers = {\n",
    "    123: \"Bill Gates\",\n",
    "    234: \"Steve Jobs\",\n",
    "    567: \"Larry Page\",\n",
    "    890: \"Sergey Brin\"\n",
    "}\n",
    "print (pioneers)\n",
    "print(len(pioneers))"
   ]
  },
  {
   "cell_type": "code",
   "execution_count": 96,
   "metadata": {},
   "outputs": [
    {
     "name": "stdout",
     "output_type": "stream",
     "text": [
      "Bill Gates\n",
      "Steve Jobs\n",
      "Larry Page\n",
      "Sergey Brin\n"
     ]
    }
   ],
   "source": [
    "for value in pioneers.values():\n",
    "  print(value)"
   ]
  },
  {
   "cell_type": "code",
   "execution_count": 97,
   "metadata": {},
   "outputs": [
    {
     "name": "stdout",
     "output_type": "stream",
     "text": [
      "Bill Gates has ID: 123\n",
      "Steve Jobs has ID: 234\n",
      "Larry Page has ID: 567\n",
      "Sergey Brin has ID: 890\n"
     ]
    }
   ],
   "source": [
    "for key, val in pioneers.items():\n",
    "  print(val + \" has ID: \" + str(key))"
   ]
  },
  {
   "cell_type": "code",
   "execution_count": 98,
   "metadata": {},
   "outputs": [
    {
     "name": "stdout",
     "output_type": "stream",
     "text": [
      "Sergey Brin\n"
     ]
    }
   ],
   "source": [
    "print(pioneers.get(890))"
   ]
  },
  {
   "cell_type": "code",
   "execution_count": 99,
   "metadata": {},
   "outputs": [
    {
     "name": "stdout",
     "output_type": "stream",
     "text": [
      "{123: 'Bill Gates', 234: 'Steve Jobs', 567: 'Larry Page', 890: 'Sergey Brin'}\n",
      "4\n"
     ]
    }
   ],
   "source": [
    "item= pioneers.get(890)\n",
    "item= \"Niklaus Wirth\"\n",
    "print (pioneers)\n",
    "print(len(pioneers))"
   ]
  },
  {
   "cell_type": "code",
   "execution_count": 100,
   "metadata": {},
   "outputs": [
    {
     "name": "stdout",
     "output_type": "stream",
     "text": [
      "{123: 'Bill Gates', 234: 'Steve Jobs', 567: 'Niklaus Wirth', 890: 'Sergey Brin'}\n",
      "4\n"
     ]
    }
   ],
   "source": [
    "pioneers.update({567: \"Niklaus Wirth\"})\n",
    "print (pioneers)\n",
    "print(len(pioneers))"
   ]
  },
  {
   "cell_type": "markdown",
   "metadata": {},
   "source": [
    "## Conditions\n",
    "Equals: a == b\n",
    "\n",
    "Not Equals: a != b\n",
    "\n",
    "Less than: a < b\n",
    "\n",
    "Less than or equal to: a <= b\n",
    "\n",
    "Greater than: a > b\n",
    "\n",
    "Greater than or equal to: a >= b\n"
   ]
  },
  {
   "cell_type": "markdown",
   "metadata": {},
   "source": [
    "## Indentation (\"Einrückung\") \n",
    "\n",
    "In if statements and loops Python syntax requires indentation of all statements forming a block instead of { and }"
   ]
  },
  {
   "cell_type": "markdown",
   "metadata": {},
   "source": [
    "## if statement\n",
    "\n",
    "- not brackets () required to enclose condition\n",
    "- a colon follows the condition\n",
    "- all statements comprising the then or else branch are indented"
   ]
  },
  {
   "cell_type": "code",
   "execution_count": 105,
   "metadata": {},
   "outputs": [
    {
     "name": "stdout",
     "output_type": "stream",
     "text": [
      "j  >= i\n"
     ]
    }
   ],
   "source": [
    "i= 11\n",
    "j= 19\n",
    "if i > j:\n",
    "    print(\"i > j\")\n",
    "else:\n",
    "    print(\"j >= i\")"
   ]
  },
  {
   "cell_type": "markdown",
   "metadata": {},
   "source": [
    "cascaded else with elif keyword:"
   ]
  },
  {
   "cell_type": "code",
   "execution_count": 110,
   "metadata": {},
   "outputs": [
    {
     "name": "stdout",
     "output_type": "stream",
     "text": [
      "i = j\n"
     ]
    }
   ],
   "source": [
    "i= 11\n",
    "j= 11\n",
    "if i > j:\n",
    "    print(\"i > j\")\n",
    "elif i == j:\n",
    "    print(\"i = j\")\n",
    "else:\n",
    "    print(\"j > i\")"
   ]
  },
  {
   "cell_type": "markdown",
   "metadata": {},
   "source": [
    "## while loops"
   ]
  },
  {
   "cell_type": "code",
   "execution_count": 115,
   "metadata": {},
   "outputs": [
    {
     "name": "stdout",
     "output_type": "stream",
     "text": [
      "sum of numbers from 1 up to and including 30 is 465\n"
     ]
    }
   ],
   "source": [
    "start = 1\n",
    "limit= 30\n",
    "sum= 0\n",
    "i= start\n",
    "while i <= limit:\n",
    "    sum= sum + i\n",
    "    i= i + 1\n",
    "print (\"sum of numbers from \" + str(start) + \" up to and including \" + str(limit) + \" is \" + str(sum))"
   ]
  },
  {
   "cell_type": "markdown",
   "metadata": {},
   "source": [
    "## for loops\n",
    "see some examples already in the Collections section above\n",
    "\n",
    "looping over the characters of a string:"
   ]
  },
  {
   "cell_type": "code",
   "execution_count": 116,
   "metadata": {},
   "outputs": [
    {
     "name": "stdout",
     "output_type": "stream",
     "text": [
      "K\n",
      "a\n",
      "l\n",
      "a\n",
      "p\n",
      "a\n",
      "w\n",
      "e\n",
      "i\n"
     ]
    }
   ],
   "source": [
    "for ch in \"Kalapawei\":\n",
    "  print(ch)"
   ]
  },
  {
   "cell_type": "markdown",
   "metadata": {},
   "source": [
    "nested for loop:"
   ]
  },
  {
   "cell_type": "code",
   "execution_count": 119,
   "metadata": {},
   "outputs": [
    {
     "name": "stdout",
     "output_type": "stream",
     "text": [
      "organic strawberry\n",
      "organic pineapple\n",
      "organic orange\n",
      "imported strawberry\n",
      "imported pineapple\n",
      "imported orange\n"
     ]
    }
   ],
   "source": [
    "attributes = [\"organic\", \"imported\"]\n",
    "fruits = [\"strawberry\", \"pineapple\", \"orange\"]\n",
    "\n",
    "for attr in attributes:\n",
    "  for fruit in fruits:\n",
    "    print(attr, fruit)\n"
   ]
  },
  {
   "cell_type": "markdown",
   "metadata": {},
   "source": [
    "## functions\n",
    "\n",
    "- keyword def\n",
    "- parameters without type :: Java formal and actual parameters"
   ]
  },
  {
   "cell_type": "code",
   "execution_count": 122,
   "metadata": {},
   "outputs": [
    {
     "name": "stdout",
     "output_type": "stream",
     "text": [
      "---------------\n"
     ]
    }
   ],
   "source": [
    "def printLine():\n",
    "    print(\"---------------\")\n",
    "    \n",
    "printLine()"
   ]
  },
  {
   "cell_type": "markdown",
   "metadata": {},
   "source": [
    "function with parameters:"
   ]
  },
  {
   "cell_type": "code",
   "execution_count": 128,
   "metadata": {},
   "outputs": [
    {
     "name": "stdout",
     "output_type": "stream",
     "text": [
      "HELLO WORLD\n"
     ]
    }
   ],
   "source": [
    "def printNameUpper(name):\n",
    "        print(name.upper())\n",
    "    \n",
    "printNameUpper(\"Hello world\")"
   ]
  },
  {
   "cell_type": "markdown",
   "metadata": {},
   "source": [
    "function which actually is a function and returns a value:"
   ]
  },
  {
   "cell_type": "code",
   "execution_count": 133,
   "metadata": {},
   "outputs": [
    {
     "name": "stdout",
     "output_type": "stream",
     "text": [
      "11\n"
     ]
    }
   ],
   "source": [
    "def max(i, j):\n",
    "    if (i > j):\n",
    "        return i\n",
    "    else:\n",
    "        return j\n",
    "print(max(7, 11))"
   ]
  },
  {
   "cell_type": "code",
   "execution_count": null,
   "metadata": {},
   "outputs": [],
   "source": []
  }
 ],
 "metadata": {
  "kernelspec": {
   "display_name": "Python 3",
   "language": "python",
   "name": "python3"
  },
  "language_info": {
   "codemirror_mode": {
    "name": "ipython",
    "version": 3
   },
   "file_extension": ".py",
   "mimetype": "text/x-python",
   "name": "python",
   "nbconvert_exporter": "python",
   "pygments_lexer": "ipython3",
   "version": "3.7.0"
  }
 },
 "nbformat": 4,
 "nbformat_minor": 2
}
