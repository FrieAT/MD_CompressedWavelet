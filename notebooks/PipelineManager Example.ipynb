{
 "cells": [
  {
   "cell_type": "code",
   "execution_count": 1,
   "metadata": {},
   "outputs": [
    {
     "name": "stdout",
     "output_type": "stream",
     "text": [
      "Skipping non image file: ../images/IDIAP/test.txt for class IDIAP\n",
      " PipelineManager -| Wavelet FeatureVector:  |█████████████████████████| 100.0% \n"
     ]
    },
    {
     "data": {
      "text/plain": [
       "<PipelineManager.PipelineManager at 0x10da7c370>"
      ]
     },
     "execution_count": 1,
     "metadata": {},
     "output_type": "execute_result"
    }
   ],
   "source": [
    "from ImageData import WaveletPic, FVExtraction, ScanAssets, PipelineManager\n",
    "f = ScanAssets(\"../images/\")\n",
    "f.do(None) # Non-Type because we have nothing before.\n",
    "\n",
    "m = PipelineManager()\n",
    "m.addPipeline(WaveletPic())\n",
    "m.addPipeline(FVExtraction())\n",
    "m.do(f)\n",
    "\n",
    "l = LOOCV()\n",
    "l.do(m)\n",
    "\n",
    "m2 = PipelineManager()\n",
    "m2.addPipeline(EuclideanDistance())\n",
    "m2.addPipeline(kNearestNeighbour())\n",
    "m2.do(l)\n",
    "\n",
    "#m.do(f) # Just for fun running twice, if you want to :P"
   ]
  },
  {
   "cell_type": "code",
   "execution_count": 2,
   "metadata": {},
   "outputs": [
    {
     "data": {
      "text/plain": [
       "<LOOCV.LOOCV at 0x10d8dff10>"
      ]
     },
     "execution_count": 2,
     "metadata": {},
     "output_type": "execute_result"
    }
   ],
   "source": [
    "from ImageData import LOOCV\n",
    "l = LOOCV()\n",
    "l.do(m)"
   ]
  },
  {
   "cell_type": "code",
   "execution_count": 3,
   "metadata": {},
   "outputs": [
    {
     "name": "stdout",
     "output_type": "stream",
     "text": [
      " PipelineManager -| EuclidDistance KNN:  |████████████████████████████| 100.0% \n"
     ]
    },
    {
     "data": {
      "text/plain": [
       "<PipelineManager.PipelineManager at 0x1403fda00>"
      ]
     },
     "execution_count": 3,
     "metadata": {},
     "output_type": "execute_result"
    }
   ],
   "source": [
    "from ImageData import EuclideanDistance, kNearestNeighbour\n",
    "m2 = PipelineManager()\n",
    "m2.addPipeline(EuclideanDistance())\n",
    "m2.addPipeline(kNearestNeighbour())\n",
    "m2.do(l)"
   ]
  },
  {
   "cell_type": "code",
   "execution_count": 5,
   "metadata": {},
   "outputs": [
    {
     "data": {
      "text/plain": [
       "1320"
      ]
     },
     "execution_count": 5,
     "metadata": {},
     "output_type": "execute_result"
    }
   ],
   "source": [
    "len(m2.data)"
   ]
  },
  {
   "cell_type": "code",
   "execution_count": 9,
   "metadata": {},
   "outputs": [
    {
     "data": {
      "text/plain": [
       "'HKPU-FV'"
      ]
     },
     "execution_count": 9,
     "metadata": {},
     "output_type": "execute_result"
    }
   ],
   "source": [
    "m2.data[77].classifiedAs"
   ]
  },
  {
   "cell_type": "code",
   "execution_count": 26,
   "metadata": {},
   "outputs": [
    {
     "data": {
      "text/plain": [
       "'../images/HKPU-FV/5/f1/1/5_1_f1_1.bmp'"
      ]
     },
     "execution_count": 26,
     "metadata": {},
     "output_type": "execute_result"
    }
   ],
   "source": [
    "m2.data[77].imagePath"
   ]
  },
  {
   "cell_type": "code",
   "execution_count": 46,
   "metadata": {},
   "outputs": [
    {
     "name": "stdout",
     "output_type": "stream",
     "text": [
      "| --------- |\n",
      "Correct Identified: 1106\n",
      "False Identified: 214\n",
      "K-Nearest-Neighbour: 1\n",
      "| --------- |\n"
     ]
    }
   ],
   "source": [
    "k = 1\n",
    "correctCount = 0\n",
    "falseCount = 0\n",
    "for n in m2.data:\n",
    "    classFromNeighbour = n.getNeighbourByClass(k)\n",
    "    if n.classifiedAs == classFromNeighbour:\n",
    "        correctCount += 1\n",
    "    else:\n",
    "        falseCount += 1\n",
    "        #print(\"ERROR: Image \"+n.imagePath+\" classified as: \"+classFromNeighbour)\n",
    "print(\"| --------- |\")\n",
    "print(\"Correct Identified: \"+str(correctCount))\n",
    "print(\"False Identified: \"+str(falseCount))\n",
    "print(\"K-Nearest-Neighbour: \"+str(k))\n",
    "print(\"| --------- |\")"
   ]
  }
 ],
 "metadata": {
  "kernelspec": {
   "display_name": "Python 3",
   "language": "python",
   "name": "python3"
  },
  "language_info": {
   "codemirror_mode": {
    "name": "ipython",
    "version": 3
   },
   "file_extension": ".py",
   "mimetype": "text/x-python",
   "name": "python",
   "nbconvert_exporter": "python",
   "pygments_lexer": "ipython3",
   "version": "3.8.0"
  }
 },
 "nbformat": 4,
 "nbformat_minor": 2
}
