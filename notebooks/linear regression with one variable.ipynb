{
 "cells": [
  {
   "cell_type": "markdown",
   "metadata": {},
   "source": [
    "Pandas is a Python library for 'manipulating numerical tables and time series' -> https://en.wikipedia.org/wiki/Pandas_(software)"
   ]
  },
  {
   "cell_type": "code",
   "execution_count": 7,
   "metadata": {},
   "outputs": [
    {
     "name": "stdout",
     "output_type": "stream",
     "text": [
      "(9, 2)\n"
     ]
    }
   ],
   "source": [
    "import pandas\n",
    "data = pandas.read_csv(\"./sample_x_y.csv\")\n",
    "print (data.shape)"
   ]
  },
  {
   "cell_type": "code",
   "execution_count": 8,
   "metadata": {},
   "outputs": [
    {
     "data": {
      "text/plain": [
       "[<matplotlib.lines.Line2D at 0x1a1ff63dd8>]"
      ]
     },
     "execution_count": 8,
     "metadata": {},
     "output_type": "execute_result"
    },
    {
     "data": {
      "image/png": "[encoded data removed]",
      "text/plain": [
       "<Figure size 360x360 with 1 Axes>"
      ]
     },
     "metadata": {
      "needs_background": "light"
     },
     "output_type": "display_data"
    }
   ],
   "source": [
    "x= data['x']\n",
    "y= data['y']\n",
    "import matplotlib.pyplot as plt\n",
    "plt.figure(figsize=(5, 5))\n",
    "plt.plot(x, y, 'o')"
   ]
  },
  {
   "cell_type": "markdown",
   "metadata": {},
   "source": [
    "We need to split the input x and output y into socalled numpy arrays, in order to be able to use the classifiers in the science kit learn (scikit) learn or short sklearn library.\n",
    "\n",
    "Numpy: https://en.wikipedia.org/wiki/NumPy\n",
    "        "
   ]
  },
  {
   "cell_type": "code",
   "execution_count": 9,
   "metadata": {},
   "outputs": [
    {
     "data": {
      "text/plain": [
       "LinearRegression(copy_X=True, fit_intercept=True, n_jobs=1, normalize=False)"
      ]
     },
     "execution_count": 9,
     "metadata": {},
     "output_type": "execute_result"
    }
   ],
   "source": [
    "import pandas as pd\n",
    "import numpy as np\n",
    "data = pd.read_csv(\"./sample_x_y.csv\")\n",
    "\n",
    "# Separate the features (x) and the labels (y) into arrays called X and y\n",
    "X = np.array(data[['x']])   # with two variables it would be: data[['x1', 'x2']]\n",
    "y = np.array(data['y'])\n",
    "# try one of several classifiers provided by scikit learn (sklearn)\n",
    "from sklearn.linear_model import LinearRegression\n",
    "regressor = LinearRegression()\n",
    "regressor.fit(X,y)"
   ]
  },
  {
   "cell_type": "code",
   "execution_count": 10,
   "metadata": {},
   "outputs": [
    {
     "data": {
      "text/plain": [
       "0.9516265912305516"
      ]
     },
     "execution_count": 10,
     "metadata": {},
     "output_type": "execute_result"
    }
   ],
   "source": [
    "regressor.score(X, y)"
   ]
  },
  {
   "cell_type": "markdown",
   "metadata": {},
   "source": [
    "sklearn documentation: The best possible score is 1.0 and it can be negative (because the model can be arbitrarily worse). A constant model that always predicts the expected value of y, disregarding the input features, would get a R^2 score of 0.0."
   ]
  },
  {
   "cell_type": "code",
   "execution_count": 11,
   "metadata": {},
   "outputs": [
    {
     "data": {
      "text/plain": [
       "array([7.76237624])"
      ]
     },
     "execution_count": 11,
     "metadata": {},
     "output_type": "execute_result"
    }
   ],
   "source": [
    "regressor.predict(5)"
   ]
  },
  {
   "cell_type": "code",
   "execution_count": 12,
   "metadata": {},
   "outputs": [
    {
     "data": {
      "text/plain": [
       "array([8.91089109])"
      ]
     },
     "execution_count": 12,
     "metadata": {},
     "output_type": "execute_result"
    }
   ],
   "source": [
    "regressor.predict(6)"
   ]
  },
  {
   "cell_type": "code",
   "execution_count": 13,
   "metadata": {},
   "outputs": [
    {
     "data": {
      "text/plain": [
       "array([3.74257426])"
      ]
     },
     "execution_count": 13,
     "metadata": {},
     "output_type": "execute_result"
    }
   ],
   "source": [
    "regressor.predict(1.5)"
   ]
  },
  {
   "cell_type": "code",
   "execution_count": 14,
   "metadata": {},
   "outputs": [
    {
     "name": "stdout",
     "output_type": "stream",
     "text": [
      "0.0    [2.01980198]\n",
      "0.5    [2.59405941]\n",
      "1.0    [3.16831683]\n",
      "1.5    [3.74257426]\n",
      "2.0    [4.31683168]\n",
      "2.5    [4.89108911]\n",
      "3.0    [5.46534653]\n",
      "3.5    [6.03960396]\n",
      "4.0    [6.61386139]\n",
      "4.5    [7.18811881]\n",
      "5.0    [7.76237624]\n",
      "5.5    [8.33663366]\n",
      "6.0    [8.91089109]\n",
      "6.5    [9.48514851]\n",
      "7.0    [10.05940594]\n",
      "7.5    [10.63366337]\n",
      "8.0    [11.20792079]\n",
      "[0, 0.5, 1, 1.5, 2, 2.5, 3, 3.5, 4, 4.5, 5, 5.5, 6, 6.5, 7, 7.5, 8]\n",
      "[2.0198019801980207, 2.5940594059405946, 3.168316831683169, 3.7425742574257432, 4.316831683168317, 4.891089108910891, 5.465346534653465, 6.03960396039604, 6.6138613861386135, 7.188118811881187, 7.762376237623761, 8.336633663366335, 8.91089108910891, 9.485148514851485, 10.059405940594058, 10.63366336633663, 11.207920792079207]\n"
     ]
    },
    {
     "data": {
      "text/plain": [
       "[<matplotlib.lines.Line2D at 0x1a1ffb7908>]"
      ]
     },
     "execution_count": 14,
     "metadata": {},
     "output_type": "execute_result"
    },
    {
     "data": {
      "image/png": "[encoded data removed]",
      "text/plain": [
       "<Figure size 360x360 with 1 Axes>"
      ]
     },
     "metadata": {
      "needs_background": "light"
     },
     "output_type": "display_data"
    }
   ],
   "source": [
    "x_test= [0, 0.5, 1, 1.5, 2, 2.5, 3, 3.5, 4, 4.5, 5, 5.5, 6, 6.5, 7, 7.5, 8]\n",
    "y_pred= []\n",
    "for coordinate, val in np.ndenumerate(x_test):\n",
    "    predX= regressor.predict(val)\n",
    "    print (str(val) + \"    \" + str(predX))\n",
    "    y_pred.append(predX[0])  #np.append(y_pred, np.array([predX]))    # y_pred.append(classifier.predict(x))\n",
    "print (x_test)\n",
    "print (y_pred)\n",
    "plt.figure(figsize=(5, 5))\n",
    "plt.plot(x_test, y_pred, color='red', linewidth=3)\n",
    "plt.plot(x, y, 'o')"
   ]
  },
  {
   "cell_type": "code",
   "execution_count": null,
   "metadata": {},
   "outputs": [],
   "source": []
  },
  {
   "cell_type": "code",
   "execution_count": null,
   "metadata": {},
   "outputs": [],
   "source": []
  },
  {
   "cell_type": "code",
   "execution_count": null,
   "metadata": {},
   "outputs": [],
   "source": []
  }
 ],
 "metadata": {
  "kernelspec": {
   "display_name": "Python 3",
   "language": "python",
   "name": "python3"
  },
  "language_info": {
   "codemirror_mode": {
    "name": "ipython",
    "version": 3
   },
   "file_extension": ".py",
   "mimetype": "text/x-python",
   "name": "python",
   "nbconvert_exporter": "python",
   "pygments_lexer": "ipython3",
   "version": "3.7.0"
  }
 },
 "nbformat": 4,
 "nbformat_minor": 2
}
